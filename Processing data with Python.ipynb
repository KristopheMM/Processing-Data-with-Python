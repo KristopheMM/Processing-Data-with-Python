{
 "cells": [
  {
   "cell_type": "code",
   "execution_count": 1,
   "metadata": {},
   "outputs": [],
   "source": [
    "import pandas as pd"
   ]
  },
  {
   "cell_type": "markdown",
   "metadata": {},
   "source": [
    "# Create Canned data\n",
    "Canned data is hard coded within the program\n",
    "\n",
    "Create a key:value collection of series to use to populate the dataframe for testing"
   ]
  },
  {
   "cell_type": "code",
   "execution_count": 2,
   "metadata": {},
   "outputs": [],
   "source": [
    "data = {'Month': pd.Series(['January', 'February', 'March', 'April', 'May',\n",
    "                           'June', 'July', 'August', 'September', 'October','November', 'December']),\n",
    "       'Rainfall': pd.Series([1.65,1.25,1.94, 2.75, 3.14, 3.65,\n",
    "                              5.05, 1.50, 1.33, 0.07, 0.50, 2.30])\n",
    "       }"
   ]
  },
  {
   "cell_type": "code",
   "execution_count": 3,
   "metadata": {},
   "outputs": [
    {
     "data": {
      "text/plain": [
       "(12, 2)"
      ]
     },
     "execution_count": 3,
     "metadata": {},
     "output_type": "execute_result"
    }
   ],
   "source": [
    "# Create a Dataframe using the static data\n",
    "df = pd.DataFrame(data)\n",
    "df.shape"
   ]
  },
  {
   "cell_type": "code",
   "execution_count": 4,
   "metadata": {},
   "outputs": [
    {
     "name": "stdout",
     "output_type": "stream",
     "text": [
      "Our data frame:\n",
      "        Month  Rainfall\n",
      "0     January      1.65\n",
      "1    February      1.25\n",
      "2       March      1.94\n",
      "3       April      2.75\n",
      "4         May      3.14\n",
      "5        June      3.65\n",
      "6        July      5.05\n",
      "7      August      1.50\n",
      "8   September      1.33\n",
      "9     October      0.07\n",
      "10   November      0.50\n",
      "11   December      2.30 \n",
      "\n"
     ]
    }
   ],
   "source": [
    "print(\"Our data frame:\")\n",
    "print(df, \"\\n\")"
   ]
  },
  {
   "cell_type": "markdown",
   "metadata": {},
   "source": [
    "Pandas Series is a single dimension array\n",
    "\n",
    "Pandas dataframe is a two-dimensional array, like a spreadsheet.\n",
    "Our df consists of 2 rows of series(months and rainfall)"
   ]
  },
  {
   "cell_type": "code",
   "execution_count": 5,
   "metadata": {},
   "outputs": [],
   "source": [
    "# Extra step to make my own df\n",
    "data = {'Month': pd.Series(['January', 'February', 'March', 'April', 'May',\n",
    "                           'June', 'July', 'August', 'September', 'October','November', 'December']),\n",
    "       'Rainfall': pd.Series([1.65,1.25,1.94, 2.75, 2.75, 3.645,\n",
    "                              5.5, 1, 1.3,\" \", 0.50, 2.3]),\n",
    "        'Temperature': pd.Series([3,10,15,20,25,24,30,1,33,\" \",32,2.3])\n",
    "       }"
   ]
  },
  {
   "cell_type": "code",
   "execution_count": 6,
   "metadata": {},
   "outputs": [
    {
     "data": {
      "text/html": [
       "<div>\n",
       "<style scoped>\n",
       "    .dataframe tbody tr th:only-of-type {\n",
       "        vertical-align: middle;\n",
       "    }\n",
       "\n",
       "    .dataframe tbody tr th {\n",
       "        vertical-align: top;\n",
       "    }\n",
       "\n",
       "    .dataframe thead th {\n",
       "        text-align: right;\n",
       "    }\n",
       "</style>\n",
       "<table border=\"1\" class=\"dataframe\">\n",
       "  <thead>\n",
       "    <tr style=\"text-align: right;\">\n",
       "      <th></th>\n",
       "      <th>Month</th>\n",
       "      <th>Rainfall</th>\n",
       "      <th>Temperature</th>\n",
       "    </tr>\n",
       "  </thead>\n",
       "  <tbody>\n",
       "    <tr>\n",
       "      <th>0</th>\n",
       "      <td>January</td>\n",
       "      <td>1.65</td>\n",
       "      <td>3</td>\n",
       "    </tr>\n",
       "    <tr>\n",
       "      <th>1</th>\n",
       "      <td>February</td>\n",
       "      <td>1.25</td>\n",
       "      <td>10</td>\n",
       "    </tr>\n",
       "    <tr>\n",
       "      <th>2</th>\n",
       "      <td>March</td>\n",
       "      <td>1.94</td>\n",
       "      <td>15</td>\n",
       "    </tr>\n",
       "    <tr>\n",
       "      <th>3</th>\n",
       "      <td>April</td>\n",
       "      <td>2.75</td>\n",
       "      <td>20</td>\n",
       "    </tr>\n",
       "    <tr>\n",
       "      <th>4</th>\n",
       "      <td>May</td>\n",
       "      <td>2.75</td>\n",
       "      <td>25</td>\n",
       "    </tr>\n",
       "    <tr>\n",
       "      <th>5</th>\n",
       "      <td>June</td>\n",
       "      <td>3.645</td>\n",
       "      <td>24</td>\n",
       "    </tr>\n",
       "    <tr>\n",
       "      <th>6</th>\n",
       "      <td>July</td>\n",
       "      <td>5.5</td>\n",
       "      <td>30</td>\n",
       "    </tr>\n",
       "    <tr>\n",
       "      <th>7</th>\n",
       "      <td>August</td>\n",
       "      <td>1</td>\n",
       "      <td>1</td>\n",
       "    </tr>\n",
       "    <tr>\n",
       "      <th>8</th>\n",
       "      <td>September</td>\n",
       "      <td>1.3</td>\n",
       "      <td>33</td>\n",
       "    </tr>\n",
       "    <tr>\n",
       "      <th>9</th>\n",
       "      <td>October</td>\n",
       "      <td></td>\n",
       "      <td></td>\n",
       "    </tr>\n",
       "    <tr>\n",
       "      <th>10</th>\n",
       "      <td>November</td>\n",
       "      <td>0.5</td>\n",
       "      <td>32</td>\n",
       "    </tr>\n",
       "    <tr>\n",
       "      <th>11</th>\n",
       "      <td>December</td>\n",
       "      <td>2.3</td>\n",
       "      <td>2.3</td>\n",
       "    </tr>\n",
       "  </tbody>\n",
       "</table>\n",
       "</div>"
      ],
      "text/plain": [
       "        Month Rainfall Temperature\n",
       "0     January     1.65           3\n",
       "1    February     1.25          10\n",
       "2       March     1.94          15\n",
       "3       April     2.75          20\n",
       "4         May     2.75          25\n",
       "5        June    3.645          24\n",
       "6        July      5.5          30\n",
       "7      August        1           1\n",
       "8   September      1.3          33\n",
       "9     October                     \n",
       "10   November      0.5          32\n",
       "11   December      2.3         2.3"
      ]
     },
     "execution_count": 6,
     "metadata": {},
     "output_type": "execute_result"
    }
   ],
   "source": [
    "#change to df\n",
    "df = pd.DataFrame(data)\n",
    "\n",
    "#save as csv on desktop\n",
    "df.to_csv('rainfall.csv', index = 0)\n",
    "\n",
    "#read from csv\n",
    "dfc = pd.read_csv('rainfall.csv')\n",
    "dfc"
   ]
  },
  {
   "cell_type": "code",
   "execution_count": 7,
   "metadata": {},
   "outputs": [
    {
     "name": "stdout",
     "output_type": "stream",
     "text": [
      "Our data frame:\n",
      "        Month  Rainfall  Temperature\n",
      "0     January     1.650          3.0\n",
      "1    February     1.250         10.0\n",
      "10   November     0.500         32.0\n",
      "11   December     2.300          2.3\n",
      "2       March     1.940         15.0\n",
      "3       April     2.750         20.0\n",
      "4         May     2.750         25.0\n",
      "5        June     3.645         24.0\n",
      "6        July     5.500         30.0\n",
      "7      August     1.000          1.0\n",
      "8   September     1.300         33.0\n",
      "9     October       NaN          NaN \n",
      "\n"
     ]
    }
   ],
   "source": [
    "#to read json file\n",
    "dfj = pd.read_json('data.json')\n",
    "\n",
    "print(\"Our data frame:\")\n",
    "print(dfj, \"\\n\")"
   ]
  },
  {
   "cell_type": "markdown",
   "metadata": {},
   "source": [
    "# Cleaning Data:\n",
    "\n",
    "One of the most important tasks in processing data.\n",
    "\n",
    "Data needs to be consistent to be reliably analyzed.\n",
    "\n",
    "Cleaning involves parsing the data detecting 'bad' or missing data"
   ]
  },
  {
   "cell_type": "code",
   "execution_count": 8,
   "metadata": {},
   "outputs": [
    {
     "name": "stdout",
     "output_type": "stream",
     "text": [
      "Our data with zerod values: \n",
      "        Month  Rainfall  Temperature\n",
      "0     January     1.650          3.0\n",
      "1    February     1.250         10.0\n",
      "10   November     0.500         32.0\n",
      "11   December     2.300          2.3\n",
      "2       March     1.940         15.0\n",
      "3       April     2.750         20.0\n",
      "4         May     2.750         25.0\n",
      "5        June     3.645         24.0\n",
      "6        July     5.500         30.0\n",
      "7      August     1.000          1.0\n",
      "8   September     1.300         33.0\n",
      "9     October     0.000          0.0\n"
     ]
    }
   ],
   "source": [
    "# October is bad from source\n",
    "# To not break the algorithm we will zero the data\n",
    "df_zeros = dfj.fillna(0)\n",
    "print(\"Our data with zerod values: \")\n",
    "print(df_zeros)\n",
    "#Zero can skew the data so we should remove invalid data\n",
    "# so, we will not use this data later on"
   ]
  },
  {
   "cell_type": "code",
   "execution_count": 9,
   "metadata": {},
   "outputs": [
    {
     "name": "stdout",
     "output_type": "stream",
     "text": [
      "Our data with dropped values: \n",
      "         Month  Rainfall  Temperature\n",
      "0     January     1.650          3.0\n",
      "1    February     1.250         10.0\n",
      "10   November     0.500         32.0\n",
      "11   December     2.300          2.3\n",
      "2       March     1.940         15.0\n",
      "3       April     2.750         20.0\n",
      "4         May     2.750         25.0\n",
      "5        June     3.645         24.0\n",
      "6        July     5.500         30.0\n",
      "7      August     1.000          1.0\n",
      "8   September     1.300         33.0\n"
     ]
    }
   ],
   "source": [
    "#remove rows with the missing values\n",
    "df_clean = dfj.dropna()\n",
    "print(\"Our data with dropped values: \\n\", df_clean)"
   ]
  },
  {
   "cell_type": "code",
   "execution_count": 10,
   "metadata": {},
   "outputs": [
    {
     "name": "stdout",
     "output_type": "stream",
     "text": [
      "\n",
      " Number of rows with Nans: 1\n"
     ]
    }
   ],
   "source": [
    "#create a count of all rows containg Nans\n",
    "count = 0\n",
    "for index, row in dfj.iterrows():\n",
    "    if any(row.isnull()):\n",
    "        count = count + 1\n",
    "        \n",
    "print(\"\\n Number of rows with Nans: \" + str(count))"
   ]
  },
  {
   "cell_type": "code",
   "execution_count": 11,
   "metadata": {},
   "outputs": [
    {
     "name": "stdout",
     "output_type": "stream",
     "text": [
      "\n",
      " Number of rows with Nans: 0\n"
     ]
    }
   ],
   "source": [
    "#create a count of all rows containg Nans\n",
    "count = 0\n",
    "for index, row in df_clean.iterrows():\n",
    "    if any(row.isnull()):\n",
    "        count = count + 1\n",
    "        \n",
    "print(\"\\n Number of rows with Nans: \" + str(count))"
   ]
  },
  {
   "cell_type": "code",
   "execution_count": 12,
   "metadata": {},
   "outputs": [
    {
     "data": {
      "text/html": [
       "<div>\n",
       "<style scoped>\n",
       "    .dataframe tbody tr th:only-of-type {\n",
       "        vertical-align: middle;\n",
       "    }\n",
       "\n",
       "    .dataframe tbody tr th {\n",
       "        vertical-align: top;\n",
       "    }\n",
       "\n",
       "    .dataframe thead th {\n",
       "        text-align: right;\n",
       "    }\n",
       "</style>\n",
       "<table border=\"1\" class=\"dataframe\">\n",
       "  <thead>\n",
       "    <tr style=\"text-align: right;\">\n",
       "      <th></th>\n",
       "      <th>Month</th>\n",
       "      <th>Rainfall</th>\n",
       "      <th>Temperature</th>\n",
       "    </tr>\n",
       "  </thead>\n",
       "  <tbody>\n",
       "    <tr>\n",
       "      <th>0</th>\n",
       "      <td>January</td>\n",
       "      <td>1.650</td>\n",
       "      <td>3.0</td>\n",
       "    </tr>\n",
       "    <tr>\n",
       "      <th>1</th>\n",
       "      <td>February</td>\n",
       "      <td>1.250</td>\n",
       "      <td>10.0</td>\n",
       "    </tr>\n",
       "    <tr>\n",
       "      <th>2</th>\n",
       "      <td>March</td>\n",
       "      <td>1.940</td>\n",
       "      <td>15.0</td>\n",
       "    </tr>\n",
       "    <tr>\n",
       "      <th>3</th>\n",
       "      <td>April</td>\n",
       "      <td>2.750</td>\n",
       "      <td>20.0</td>\n",
       "    </tr>\n",
       "    <tr>\n",
       "      <th>4</th>\n",
       "      <td>May</td>\n",
       "      <td>2.750</td>\n",
       "      <td>25.0</td>\n",
       "    </tr>\n",
       "    <tr>\n",
       "      <th>5</th>\n",
       "      <td>June</td>\n",
       "      <td>3.645</td>\n",
       "      <td>24.0</td>\n",
       "    </tr>\n",
       "    <tr>\n",
       "      <th>6</th>\n",
       "      <td>July</td>\n",
       "      <td>5.500</td>\n",
       "      <td>30.0</td>\n",
       "    </tr>\n",
       "    <tr>\n",
       "      <th>7</th>\n",
       "      <td>August</td>\n",
       "      <td>1.000</td>\n",
       "      <td>1.0</td>\n",
       "    </tr>\n",
       "    <tr>\n",
       "      <th>8</th>\n",
       "      <td>September</td>\n",
       "      <td>1.300</td>\n",
       "      <td>33.0</td>\n",
       "    </tr>\n",
       "    <tr>\n",
       "      <th>10</th>\n",
       "      <td>November</td>\n",
       "      <td>0.500</td>\n",
       "      <td>32.0</td>\n",
       "    </tr>\n",
       "    <tr>\n",
       "      <th>11</th>\n",
       "      <td>December</td>\n",
       "      <td>2.300</td>\n",
       "      <td>2.3</td>\n",
       "    </tr>\n",
       "  </tbody>\n",
       "</table>\n",
       "</div>"
      ],
      "text/plain": [
       "        Month  Rainfall  Temperature\n",
       "0     January     1.650          3.0\n",
       "1    February     1.250         10.0\n",
       "2       March     1.940         15.0\n",
       "3       April     2.750         20.0\n",
       "4         May     2.750         25.0\n",
       "5        June     3.645         24.0\n",
       "6        July     5.500         30.0\n",
       "7      August     1.000          1.0\n",
       "8   September     1.300         33.0\n",
       "10   November     0.500         32.0\n",
       "11   December     2.300          2.3"
      ]
     },
     "execution_count": 12,
     "metadata": {},
     "output_type": "execute_result"
    }
   ],
   "source": [
    "df_clean = df_clean.sort_index()\n",
    "df_clean"
   ]
  },
  {
   "cell_type": "markdown",
   "metadata": {},
   "source": [
    "# Statistical Analysis\n",
    "Mean = the average of a set of numbers.\n",
    "\n",
    "Median = The middle calue in a sorted set of numbers.\n",
    "\n",
    "Standard deviation = How much each value differs from the mean. Can be used to detect outliers.\n",
    "\n",
    "Mode = The most common value in a list of data.\n",
    "\n",
    "Pandas easily perform these functions!"
   ]
  },
  {
   "cell_type": "code",
   "execution_count": 13,
   "metadata": {},
   "outputs": [
    {
     "name": "stdout",
     "output_type": "stream",
     "text": [
      "Mean: \n",
      "Rainfall        2.235000\n",
      "Temperature    17.754545\n",
      "dtype: float64\n",
      "              \n",
      "Median : \n",
      "Rainfall        1.94\n",
      "Temperature    20.00\n",
      "dtype: float64\n",
      "\n",
      " Standard Deviation: \n",
      "Rainfall        1.413936\n",
      "Temperature    12.193553\n",
      "dtype: float64\n",
      "\n",
      " Mode : \n",
      "        Month  Rainfall  Temperature\n",
      "0       April      2.75          1.0\n",
      "1      August       NaN          2.3\n",
      "2    December       NaN          3.0\n",
      "3    February       NaN         10.0\n",
      "4     January       NaN         15.0\n",
      "5        July       NaN         20.0\n",
      "6        June       NaN         24.0\n",
      "7       March       NaN         25.0\n",
      "8         May       NaN         30.0\n",
      "9    November       NaN         32.0\n",
      "10  September       NaN         33.0\n"
     ]
    }
   ],
   "source": [
    "print(\"Mean: \")\n",
    "print(df_clean.mean())\n",
    "\n",
    "print(\"              \")\n",
    "print(\"Median : \")\n",
    "print(df_clean.median())\n",
    "\n",
    "#print(\"              \")\n",
    "print(\"\\n\", \"Standard Deviation: \")\n",
    "print(df_clean.std())\n",
    "\n",
    "#The mode here is wrong but will do it for explanation purposes\n",
    "#rainfall has repeated value of 2.75\n",
    "#temperature are all unique\n",
    "print(\"\\n\", \"Mode : \")\n",
    "print(df_clean.mode())"
   ]
  },
  {
   "cell_type": "code",
   "execution_count": 14,
   "metadata": {},
   "outputs": [
    {
     "data": {
      "text/html": [
       "<div>\n",
       "<style scoped>\n",
       "    .dataframe tbody tr th:only-of-type {\n",
       "        vertical-align: middle;\n",
       "    }\n",
       "\n",
       "    .dataframe tbody tr th {\n",
       "        vertical-align: top;\n",
       "    }\n",
       "\n",
       "    .dataframe thead th {\n",
       "        text-align: right;\n",
       "    }\n",
       "</style>\n",
       "<table border=\"1\" class=\"dataframe\">\n",
       "  <thead>\n",
       "    <tr style=\"text-align: right;\">\n",
       "      <th></th>\n",
       "      <th>Rainfall</th>\n",
       "      <th>Temperature</th>\n",
       "    </tr>\n",
       "  </thead>\n",
       "  <tbody>\n",
       "    <tr>\n",
       "      <th>count</th>\n",
       "      <td>11.000000</td>\n",
       "      <td>11.000000</td>\n",
       "    </tr>\n",
       "    <tr>\n",
       "      <th>mean</th>\n",
       "      <td>2.235000</td>\n",
       "      <td>17.754545</td>\n",
       "    </tr>\n",
       "    <tr>\n",
       "      <th>std</th>\n",
       "      <td>1.413936</td>\n",
       "      <td>12.193553</td>\n",
       "    </tr>\n",
       "    <tr>\n",
       "      <th>min</th>\n",
       "      <td>0.500000</td>\n",
       "      <td>1.000000</td>\n",
       "    </tr>\n",
       "    <tr>\n",
       "      <th>25%</th>\n",
       "      <td>1.275000</td>\n",
       "      <td>6.500000</td>\n",
       "    </tr>\n",
       "    <tr>\n",
       "      <th>50%</th>\n",
       "      <td>1.940000</td>\n",
       "      <td>20.000000</td>\n",
       "    </tr>\n",
       "    <tr>\n",
       "      <th>75%</th>\n",
       "      <td>2.750000</td>\n",
       "      <td>27.500000</td>\n",
       "    </tr>\n",
       "    <tr>\n",
       "      <th>max</th>\n",
       "      <td>5.500000</td>\n",
       "      <td>33.000000</td>\n",
       "    </tr>\n",
       "  </tbody>\n",
       "</table>\n",
       "</div>"
      ],
      "text/plain": [
       "        Rainfall  Temperature\n",
       "count  11.000000    11.000000\n",
       "mean    2.235000    17.754545\n",
       "std     1.413936    12.193553\n",
       "min     0.500000     1.000000\n",
       "25%     1.275000     6.500000\n",
       "50%     1.940000    20.000000\n",
       "75%     2.750000    27.500000\n",
       "max     5.500000    33.000000"
      ]
     },
     "execution_count": 14,
     "metadata": {},
     "output_type": "execute_result"
    }
   ],
   "source": [
    "df_clean.describe()"
   ]
  },
  {
   "cell_type": "markdown",
   "metadata": {},
   "source": [
    "# Selecting Parts of a Dataframe\n",
    "\n",
    "### Indexing\n",
    "Select single columns using a column name(temperature). Returns a series.\n",
    "\n",
    "Example: df_clean['Temperature']\n",
    "\n",
    "Select multiple columns using column names. Must specify a list of column names.\n",
    "\n",
    "Example: df_clean[['Temperature', 'Rainfall']]\n",
    "\n",
    "### iloc and loc\n",
    "Select a certain row number using iloc:\n",
    "\n",
    "Example: print(\"Third row \\n\", df_clean.iloc[2])\n",
    "\n",
    "Select a certain row using a certain value:\n",
    "\n",
    "Example: print(\"\\n Third row \\n\", dfIndexed.loc['March']);"
   ]
  },
  {
   "cell_type": "code",
   "execution_count": 15,
   "metadata": {},
   "outputs": [
    {
     "name": "stdout",
     "output_type": "stream",
     "text": [
      "Temperature column: \n",
      " 0      3.0\n",
      "1     10.0\n",
      "2     15.0\n",
      "3     20.0\n",
      "4     25.0\n",
      "5     24.0\n",
      "6     30.0\n",
      "7      1.0\n",
      "8     33.0\n",
      "10    32.0\n",
      "11     2.3\n",
      "Name: Temperature, dtype: float64\n",
      "\n",
      " Temperature and Rainfall column: \n",
      "     Temperature  Rainfall\n",
      "0           3.0     1.650\n",
      "1          10.0     1.250\n",
      "2          15.0     1.940\n",
      "3          20.0     2.750\n",
      "4          25.0     2.750\n",
      "5          24.0     3.645\n",
      "6          30.0     5.500\n",
      "7           1.0     1.000\n",
      "8          33.0     1.300\n",
      "10         32.0     0.500\n",
      "11          2.3     2.300\n",
      "\n",
      " Third row \n",
      " Month          March\n",
      "Rainfall        1.94\n",
      "Temperature       15\n",
      "Name: 2, dtype: object\n"
     ]
    }
   ],
   "source": [
    "print(\"Temperature column: \\n\", df_clean['Temperature'])\n",
    "print(\"\\n Temperature and Rainfall column: \\n\",df_clean[['Temperature', 'Rainfall']])\n",
    "\n",
    "print(\"\\n Third row \\n\", df_clean.iloc[2])"
   ]
  },
  {
   "cell_type": "code",
   "execution_count": 16,
   "metadata": {},
   "outputs": [
    {
     "name": "stdout",
     "output_type": "stream",
     "text": [
      "\n",
      " Third row \n",
      " Month          March\n",
      "Rainfall        1.94\n",
      "Temperature       15\n",
      "Name: March, dtype: object\n"
     ]
    }
   ],
   "source": [
    "#To use loc, we require a properly indexed datafram\n",
    "index = df_clean['Month']\n",
    "dfIndexed = df_clean.set_index(index)\n",
    "\n",
    "print(\"\\n Third row \\n\", dfIndexed.loc['March'])"
   ]
  },
  {
   "cell_type": "code",
   "execution_count": 17,
   "metadata": {},
   "outputs": [
    {
     "name": "stdout",
     "output_type": "stream",
     "text": [
      "0    1.65\n",
      "1    1.25\n",
      "2    1.94\n",
      "Name: Rainfall, dtype: float64 \n",
      "\n",
      "The mean of rainfall is: \n",
      " 1.61333333333 \n",
      "\n"
     ]
    }
   ],
   "source": [
    "#Print the rainfall and mean for the first few months\n",
    "rainfall = df_clean['Rainfall'][0:3]\n",
    "print(rainfall, \"\\n\")\n",
    "print(\"The mean of rainfall is: \\n\", rainfall.mean(), \"\\n\")"
   ]
  },
  {
   "cell_type": "code",
   "execution_count": 18,
   "metadata": {},
   "outputs": [
    {
     "name": "stdout",
     "output_type": "stream",
     "text": [
      "\n",
      " Just Temperature and rainfall data \n",
      "    Temperature  Rainfall\n",
      "0           3.0     1.650\n",
      "1          10.0     1.250\n",
      "2          15.0     1.940\n",
      "3          20.0     2.750\n",
      "4          25.0     2.750\n",
      "5          24.0     3.645\n",
      "6          30.0     5.500\n",
      "7           1.0     1.000\n",
      "8          33.0     1.300\n",
      "10         32.0     0.500\n",
      "11          2.3     2.300 \n",
      "\n",
      "The mean of Temperature and Rainfall is: \n",
      " Temperature    17.754545\n",
      "Rainfall        2.235000\n",
      "dtype: float64 \n",
      "\n"
     ]
    }
   ],
   "source": [
    "#Print the rainfall and mean for the first few months\n",
    "print(\"\\n Just Temperature and rainfall data \")\n",
    "df_TempRain = df_clean[['Temperature','Rainfall']]\n",
    "print(df_TempRain, \"\\n\")\n",
    "print(\"The mean of Temperature and Rainfall is: \\n\", df_TempRain.mean(), \"\\n\")"
   ]
  }
 ],
 "metadata": {
  "kernelspec": {
   "display_name": "Python 3",
   "language": "python",
   "name": "python3"
  },
  "language_info": {
   "codemirror_mode": {
    "name": "ipython",
    "version": 3
   },
   "file_extension": ".py",
   "mimetype": "text/x-python",
   "name": "python",
   "nbconvert_exporter": "python",
   "pygments_lexer": "ipython3",
   "version": "3.6.8"
  }
 },
 "nbformat": 4,
 "nbformat_minor": 2
}
